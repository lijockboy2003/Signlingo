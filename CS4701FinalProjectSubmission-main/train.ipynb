{
 "cells": [
  {
   "cell_type": "code",
   "execution_count": null,
   "metadata": {},
   "outputs": [],
   "source": [
    "import torch\n",
    "import torch.nn as nn\n",
    "import torch.optim as optim\n",
    "import torchvision.transforms as transforms\n",
    "from torchvision.datasets import ImageFolder\n",
    "from torch.utils.data import DataLoader\n",
    "from sklearn.model_selection import train_test_split\n",
    "import numpy as np\n",
    "import random\n",
    "from collections import defaultdict\n",
    "\n",
    "print(\"Imports Successful\")"
   ]
  },
  {
   "cell_type": "code",
   "execution_count": null,
   "metadata": {},
   "outputs": [],
   "source": [
    "transform = transforms.Compose([\n",
    "    transforms.Resize((192, 192)),\n",
    "    transforms.Grayscale(),    \n",
    "    transforms.ToTensor(),       \n",
    "    transforms.Normalize(mean=[0.5], std=[0.5]) \n",
    "])\n",
    "\n",
    "\n",
    "dataset = ImageFolder(root='./dataset/asl_alphabet_train', transform=transform)"
   ]
  },
  {
   "cell_type": "code",
   "execution_count": null,
   "metadata": {},
   "outputs": [],
   "source": [
    "print(len(dataset))"
   ]
  },
  {
   "cell_type": "code",
   "execution_count": null,
   "metadata": {},
   "outputs": [],
   "source": [
    "# Samplers per sign\n",
    "samples_per_class = 100\n",
    "\n",
    "random.shuffle(dataset.samples)\n",
    "\n",
    "count_dict = defaultdict(int)\n",
    "\n",
    "filtered_samples = []\n",
    "filtered_targets = []\n",
    "\n",
    "for sample_index, (sample_path, target) in enumerate(dataset.samples):\n",
    "    if count_dict[target] < samples_per_class:\n",
    "      filtered_samples.append((sample_path, target))\n",
    "      filtered_targets.append(target)\n",
    "      count_dict[target]+=1\n",
    "\n",
    "dataset.samples = filtered_samples\n",
    "dataset.targets = filtered_targets\n",
    "print(count_dict)\n",
    "print(len(dataset.targets))\n",
    "print(len(dataset.samples))\n",
    "print(len(dataset))"
   ]
  },
  {
   "cell_type": "code",
   "execution_count": null,
   "metadata": {},
   "outputs": [],
   "source": [
    "# Define the CNN architecture\n",
    "class Signlingo(nn.Module):\n",
    "    def __init__(self, num_classes):\n",
    "        super(Signlingo, self).__init__()\n",
    "        self.conv1 = nn.Conv2d(in_channels=1, out_channels=16, kernel_size=3, stride=1, padding=1)\n",
    "        self.conv2 = nn.Conv2d(in_channels=16, out_channels=32, kernel_size=3, stride=1, padding=1)\n",
    "        self.conv3 = nn.Conv2d(in_channels=32, out_channels=64, kernel_size=3, stride=1, padding=1)\n",
    "        #self.conv4 = nn.Conv2d(in_channels=64, out_channels=64, kernel_size=3, stride=1, padding=1)\n",
    "        self.MaxPool = nn.MaxPool2d(kernel_size=2, stride=2, padding=0)\n",
    "        self.fc1 = nn.Linear(24*24*64, 512)\n",
    "        self.fc2 = nn.Linear(512, 29)\n",
    "\n",
    "    def forward(self, x):\n",
    "        x = self.MaxPool(torch.relu(self.conv1(x)))\n",
    "        x = self.MaxPool(torch.relu(self.conv2(x)))\n",
    "        x = self.MaxPool(torch.relu(self.conv3(x)))\n",
    "        #x = self.MaxPool(torch.relu(self.conv4(x)))\n",
    "        x = x.view(x.size(0), -1)\n",
    "        x = torch.relu(self.fc1(x))\n",
    "        x = self.fc2(x)\n",
    "        return x"
   ]
  },
  {
   "cell_type": "code",
   "execution_count": null,
   "metadata": {},
   "outputs": [],
   "source": [
    "train_set, test_set = train_test_split(dataset, test_size=0.2, random_state=42)\n",
    "print(len(train_set))\n",
    "# Data Loaders\n",
    "train_loader = DataLoader(train_set, batch_size=32, shuffle=True)\n",
    "test_loader = DataLoader(test_set, batch_size=32, shuffle=False)\n",
    "\n",
    "# Model\n",
    "model = Signlingo(num_classes=len(dataset.classes))\n",
    "\n",
    "# Loss function\n",
    "criterion = nn.CrossEntropyLoss()\n",
    "optimizer = optim.Adam(model.parameters(), lr=0.001, betas=(0.9, 0.999), eps=1e-08, weight_decay=0, amsgrad=False)\n",
    "\n",
    "# Train\n",
    "num_epochs = 8\n",
    "for epoch in range(num_epochs):\n",
    "    print(epoch)\n",
    "    for i, (data, labels) in enumerate(train_loader):\n",
    "        optimizer.zero_grad()\n",
    "        outputs = model(data)\n",
    "        loss = criterion(outputs, labels)\n",
    "        loss.backward()\n",
    "        optimizer.step()\n",
    "\n",
    "    # Test Accuracy\n",
    "    model.eval()\n",
    "    accuracy = 0\n",
    "    total = 0\n",
    "    with torch.no_grad():\n",
    "        for data, labels in test_loader:\n",
    "            outputs = model(data)\n",
    "            predicted = torch.argmax(outputs, dim=1)\n",
    "            total += labels.size(0)\n",
    "            accuracy += (predicted == labels).sum()\n",
    "    model.train()\n",
    "\n",
    "    print('Test Accuracy:' + str(accuracy/total))\n",
    "torch.save(model, 'model.pth')"
   ]
  },
  {
   "cell_type": "code",
   "execution_count": null,
   "metadata": {},
   "outputs": [],
   "source": [
    "# See what we are getting wrong\n",
    "for data, labels in test_loader:\n",
    "  outputs = model(data)\n",
    "  print(labels)\n",
    "  print(torch.max(outputs.data, 1))"
   ]
  },
  {
   "cell_type": "code",
   "execution_count": null,
   "metadata": {},
   "outputs": [],
   "source": [
    "# Testing our own photos\n",
    "dataset2 = ImageFolder(root='./dataset/asl_alphabet_test', transform=transform)\n",
    "test_loader2 = DataLoader(dataset2, batch_size=32, shuffle=False)\n",
    "for data, labels in test_loader2:\n",
    "  outputs = model(data)\n",
    "  print(labels)\n",
    "  print(torch.max(outputs.data, 1))"
   ]
  }
 ],
 "metadata": {
  "kernelspec": {
   "display_name": "Python 3.8.8 ('base')",
   "language": "python",
   "name": "python3"
  },
  "language_info": {
   "codemirror_mode": {
    "name": "ipython",
    "version": 3
   },
   "file_extension": ".py",
   "mimetype": "text/x-python",
   "name": "python",
   "nbconvert_exporter": "python",
   "pygments_lexer": "ipython3",
   "version": "3.8.8"
  },
  "orig_nbformat": 4,
  "vscode": {
   "interpreter": {
    "hash": "cd78fef2128015050713e82ca51c6520b11aee7c9ee8df750520bbbc7384cbaa"
   }
  }
 },
 "nbformat": 4,
 "nbformat_minor": 2
}
